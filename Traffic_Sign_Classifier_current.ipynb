{
 "cells": [
  {
   "cell_type": "markdown",
   "metadata": {},
   "source": [
    "# Self-Driving Car Engineer Nanodegree\n",
    "\n",
    "## Deep Learning\n",
    "\n",
    "## Project: Build a Traffic Sign Recognition Classifier\n",
    "\n",
    "In this notebook, a template is provided for you to implement your functionality in stages, which is required to successfully complete this project. If additional code is required that cannot be included in the notebook, be sure that the Python code is successfully imported and included in your submission if necessary. \n",
    "\n",
    "> **Note**: Once you have completed all of the code implementations, you need to finalize your work by exporting the iPython Notebook as an HTML document. Before exporting the notebook to html, all of the code cells need to have been run so that reviewers can see the final implementation and output. You can then export the notebook by using the menu above and navigating to  \\n\",\n",
    "    \"**File -> Download as -> HTML (.html)**. Include the finished document along with this notebook as your submission. \n",
    "\n",
    "In addition to implementing code, there is a writeup to complete. The writeup should be completed in a separate file, which can be either a markdown file or a pdf document. There is a [write up template](https://github.com/udacity/CarND-Traffic-Sign-Classifier-Project/blob/master/writeup_template.md) that can be used to guide the writing process. Completing the code template and writeup template will cover all of the [rubric points](https://review.udacity.com/#!/rubrics/481/view) for this project.\n",
    "\n",
    "The [rubric](https://review.udacity.com/#!/rubrics/481/view) contains \"Stand Out Suggestions\" for enhancing the project beyond the minimum requirements. The stand out suggestions are optional. If you decide to pursue the \"stand out suggestions\", you can include the code in this Ipython notebook and also discuss the results in the writeup file.\n",
    "\n",
    "\n",
    ">**Note:** Code and Markdown cells can be executed using the **Shift + Enter** keyboard shortcut. In addition, Markdown cells can be edited by typically double-clicking the cell to enter edit mode."
   ]
  },
  {
   "cell_type": "markdown",
   "metadata": {},
   "source": [
    "---\n",
    "## Step 0: Load The Data"
   ]
  },
  {
   "cell_type": "code",
   "execution_count": 1,
   "metadata": {},
   "outputs": [],
   "source": [
    "import matplotlib.pyplot as plt\n",
    "import csv\n",
    "\n",
    "# function for reading the images\n",
    "# arguments: path to the traffic sign data, for example './GTSRB/Training'\n",
    "# returns: list of images, list of corresponding labels \n",
    "def readTrafficSigns(rootpath):\n",
    "    '''Reads traffic sign data for German Traffic Sign Recognition Benchmark.\n",
    "\n",
    "    Arguments: path to the traffic sign data, for example './GTSRB/Training'\n",
    "    Returns:   list of images, list of corresponding labels'''\n",
    "    images = [] # images\n",
    "    labels = [] # corresponding labels\n",
    "    # loop over all 42 classes\n",
    "    for c in range(0,43):\n",
    "        prefix = rootpath + '/' + format(c, '05d') + '/' # subdirectory for class\n",
    "        gtFile = open(prefix + 'GT-'+ format(c, '05d') + '.csv') # annotations file\n",
    "        gtReader = csv.reader(gtFile, delimiter=';') # csv parser for annotations file\n",
    "        gtReader.next() # skip header\n",
    "        # loop over all images in current annotations file\n",
    "        for row in gtReader:\n",
    "            images.append(plt.imread(prefix + row[0])) # the 1th column is the filename\n",
    "            labels.append(row[7]) # the 8th column is the label\n",
    "        gtFile.close()\n",
    "    return images, labels\n",
    "# trainImages, trainLabels = readTrafficSigns('GTSRB/Training')\n",
    "# print len(trainLabels), len(trainImages)\n",
    "# plt.imshow(trainImages[42])\n",
    "# plt.show()"
   ]
  },
  {
   "cell_type": "code",
   "execution_count": 2,
   "metadata": {
    "scrolled": true
   },
   "outputs": [],
   "source": [
    "# Load pickled data\n",
    "import pickle\n",
    "\n",
    "# TODO: Fill this in based on where you saved the training and testing data\n",
    "\n",
    "training_file = 'train.p'\n",
    "validation_file= 'valid.p'\n",
    "testing_file = 'test.p'\n",
    "\n",
    "with open(training_file, mode='rb') as f:\n",
    "    train = pickle.load(f)\n",
    "with open(validation_file, mode='rb') as f:\n",
    "    valid = pickle.load(f)\n",
    "with open(testing_file, mode='rb') as f:\n",
    "    test = pickle.load(f)\n",
    "    \n",
    "X_train, y_train = train['features'], train['labels']\n",
    "X_valid, y_valid = valid['features'], valid['labels']\n",
    "X_test, y_test = test['features'], test['labels']"
   ]
  },
  {
   "cell_type": "code",
   "execution_count": 3,
   "metadata": {
    "scrolled": true
   },
   "outputs": [
    {
     "name": "stdout",
     "output_type": "stream",
     "text": [
      "(array([ 0,  1,  2,  3,  4,  5,  6,  7,  8,  9, 10, 11, 12, 13, 14, 15, 16,\n",
      "       17, 18, 19, 20, 21, 22, 23, 24, 25, 26, 27, 28, 29, 30, 31, 32, 33,\n",
      "       34, 35, 36, 37, 38, 39, 40, 41, 42], dtype=uint8), array([ 30, 240, 240, 150, 210, 210,  60, 150, 150, 150, 210, 150, 210,\n",
      "       240,  90,  90,  60, 120, 120,  30,  60,  60,  60,  60,  30, 150,\n",
      "        60,  30,  60,  30,  60,  90,  30,  90,  60, 120,  60,  30, 210,\n",
      "        30,  60,  30,  30], dtype=int64))\n"
     ]
    }
   ],
   "source": [
    "import numpy as np\n",
    "print (np.unique(y_valid, return_counts=True))\n"
   ]
  },
  {
   "cell_type": "markdown",
   "metadata": {},
   "source": [
    "---\n",
    "\n",
    "## Step 1: Dataset Summary & Exploration\n",
    "\n",
    "The pickled data is a dictionary with 4 key/value pairs:\n",
    "\n",
    "- `'features'` is a 4D array containing raw pixel data of the traffic sign images, (num examples, width, height, channels).\n",
    "- `'labels'` is a 1D array containing the label/class id of the traffic sign. The file `signnames.csv` contains id -> name mappings for each id.\n",
    "- `'sizes'` is a list containing tuples, (width, height) representing the original width and height the image.\n",
    "- `'coords'` is a list containing tuples, (x1, y1, x2, y2) representing coordinates of a bounding box around the sign in the image. **THESE COORDINATES ASSUME THE ORIGINAL IMAGE. THE PICKLED DATA CONTAINS RESIZED VERSIONS (32 by 32) OF THESE IMAGES**\n",
    "\n",
    "Complete the basic data summary below. Use python, numpy and/or pandas methods to calculate the data summary rather than hard coding the results. For example, the [pandas shape method](http://pandas.pydata.org/pandas-docs/stable/generated/pandas.DataFrame.shape.html) might be useful for calculating some of the summary results. "
   ]
  },
  {
   "cell_type": "markdown",
   "metadata": {},
   "source": [
    "### Provide a Basic Summary of the Data Set Using Python, Numpy and/or Pandas"
   ]
  },
  {
   "cell_type": "code",
   "execution_count": 4,
   "metadata": {
    "scrolled": true
   },
   "outputs": [
    {
     "name": "stdout",
     "output_type": "stream",
     "text": [
      "Number of training examples = 34799\n",
      "Number of validation examples = 4410\n",
      "Number of testing examples = 12630\n",
      "Image data shape = (32, 32, 3)\n",
      "Number of classes = 43\n",
      "training set: validation set: testing set = 0.67 : 0.09 : 0.24\n"
     ]
    }
   ],
   "source": [
    "### Replace each question mark with the appropriate value. \n",
    "### Use python, pandas or numpy methods rather than hard coding the results\n",
    "import numpy as np\n",
    "# TODO: Number of training examples\n",
    "n_train = len(y_train)\n",
    "\n",
    "# TODO: Number of validation examples\n",
    "n_valid = len(y_valid)\n",
    "\n",
    "# TODO: Number of testing examples.\n",
    "n_test = len(y_test)\n",
    "\n",
    "# TODO: What's the shape of an traffic sign image?\n",
    "image_shape = X_train.shape[1:]\n",
    "\n",
    "# TODO: How many unique classes/labels there are in the dataset.\n",
    "n_classes = len(np.unique(y_test))\n",
    "\n",
    "n_total = len(y_train) + len(y_valid) + len(y_test)\n",
    "train_ratio = round(n_train/n_total,2)\n",
    "valid_ratio = round(n_valid/n_total,2)\n",
    "test_ratio = round(n_test/n_total,2)\n",
    "\n",
    "print(\"Number of training examples =\", n_train)\n",
    "print(\"Number of validation examples =\", n_valid)\n",
    "print(\"Number of testing examples =\", n_test)\n",
    "print(\"Image data shape =\", image_shape)\n",
    "print(\"Number of classes =\", n_classes)\n",
    "print(\"training set: validation set: testing set =\",train_ratio,\":\",valid_ratio,\":\",test_ratio)"
   ]
  },
  {
   "cell_type": "markdown",
   "metadata": {},
   "source": [
    "### Include an exploratory visualization of the dataset"
   ]
  },
  {
   "cell_type": "markdown",
   "metadata": {},
   "source": [
    "Visualize the German Traffic Signs Dataset using the pickled file(s). This is open ended, suggestions include: plotting traffic sign images, plotting the count of each sign, etc. \n",
    "\n",
    "The [Matplotlib](http://matplotlib.org/) [examples](http://matplotlib.org/examples/index.html) and [gallery](http://matplotlib.org/gallery.html) pages are a great resource for doing visualizations in Python.\n",
    "\n",
    "**NOTE:** It's recommended you start with something simple first. If you wish to do more, come back to it after you've completed the rest of the sections. It can be interesting to look at the distribution of classes in the training, validation and test set. Is the distribution the same? Are there more examples of some classes than others?"
   ]
  },
  {
   "cell_type": "code",
   "execution_count": 5,
   "metadata": {},
   "outputs": [],
   "source": [
    "### Data exploration visualization code goes here.\n",
    "### Feel free to use as many code cells as needed.\n",
    "import matplotlib.pyplot as plt\n",
    "# Visualizations will be shown in the notebook.\n",
    "%matplotlib inline"
   ]
  },
  {
   "cell_type": "code",
   "execution_count": 6,
   "metadata": {
    "scrolled": true
   },
   "outputs": [
    {
     "data": {
      "image/png": "[encoded data removed]",
      "text/plain": [
       "<matplotlib.figure.Figure at 0x1547e870240>"
      ]
     },
     "metadata": {},
     "output_type": "display_data"
    }
   ],
   "source": [
    "fig, ax = plt.subplots(figsize=(5, 4))\n",
    "\n",
    "ax.bar([1,2,3], [train_ratio,valid_ratio,test_ratio],  align=\"center\", width=0.5, alpha=0.5)\n",
    "ax.set_title('data set ratio')\n",
    "ax.set_xticks([1, 2, 3])\n",
    "ax.set_xticklabels([r'train_set', r'valid_set', r'test_set'], fontsize=12)\n",
    "\n",
    "yticks = [0, 0.25, 0.5, 0.75, 1]\n",
    "ax.set_yticks(yticks)\n",
    "ax.set_yticklabels([(\"$%.1f$\" % (y*100) + \"%\") for y in yticks], fontsize=8); # use LaTeX formatted labels\n",
    "for xvalue,ratio in zip([1,2,3],[train_ratio,valid_ratio,test_ratio]):\n",
    "    ax.text(xvalue, ratio+0.05, '%.0d' % (ratio*100)+'%', ha='center', va= 'bottom',fontsize=15)\n",
    "\n",
    "fig.savefig('report_images\\data_ratio.jpg')"
   ]
  },
  {
   "cell_type": "code",
   "execution_count": 7,
   "metadata": {
    "scrolled": false
   },
   "outputs": [
    {
     "data": {
      "image/png": "[encoded data removed]",
      "text/plain": [
       "<matplotlib.figure.Figure at 0x1540007d278>"
      ]
     },
     "metadata": {},
     "output_type": "display_data"
    }
   ],
   "source": [
    "fig, ax = plt.subplots(1, 3, figsize=(15, 4))\n",
    "\n",
    "unique_labels = np.unique(y_test)\n",
    "train_label_count = np.unique(y_train,return_counts=True)[1]\n",
    "valid_label_count = np.unique(y_valid,return_counts=True)[1]\n",
    "test_label_count = np.unique(y_test,return_counts=True)[1]\n",
    "\n",
    "ax[0].bar( unique_labels, train_label_count,  align=\"center\", width=0.5, alpha=0.5)\n",
    "ax[0].set_title('unique label distribution for train data', fontsize = 10)\n",
    "ax[0].set_xlabel('label')\n",
    "ax[0].set_ylabel('data amount')\n",
    "\n",
    "yticks = np.linspace(0,1500,num = 3)\n",
    "\n",
    "ax[1].bar( unique_labels, valid_label_count,  align=\"center\", width=0.5, alpha=0.5,color = 'r')\n",
    "ax[1].set_title('unique label distribution for validation data', fontsize = 10 )\n",
    "ax[1].set_xlabel('label')\n",
    "ax[1].set_ylabel('data amount')\n",
    "\n",
    "\n",
    "ax[2].bar( unique_labels, test_label_count,  align=\"center\", width=0.5, alpha=0.5, color = 'green')\n",
    "ax[2].set_title('unique label distribution for test data', fontsize = 10)\n",
    "ax[2].set_xlabel('label')\n",
    "ax[2].set_ylabel('data amount')\n",
    "\n",
    "fig.savefig(r'report_images\\unique_label_distribution.jpg')"
   ]
  },
  {
   "cell_type": "code",
   "execution_count": 8,
   "metadata": {
    "scrolled": true
   },
   "outputs": [
    {
     "name": "stdout",
     "output_type": "stream",
     "text": [
      "(7, 7)\n"
     ]
    },
    {
     "data": {
      "image/png": "[encoded data removed]",
      "text/plain": [
       "<matplotlib.figure.Figure at 0x154003fa320>"
      ]
     },
     "metadata": {},
     "output_type": "display_data"
    }
   ],
   "source": [
    "import random\n",
    "fig, ax = plt.subplots(7, 7, figsize=(8, 8))\n",
    "print (ax.shape)\n",
    "for label in unique_labels:\n",
    "\n",
    "    index_array = np.array(np.where(y_train == label))\n",
    "    np.random.shuffle(index_array)  \n",
    "    index = index_array.squeeze()[0]\n",
    "    image = X_train[index].squeeze()\n",
    "    plot_index_1 = int((label)/7.)\n",
    "    plot_index_2 = label - (int((label)/7.))*7\n",
    "    ax[plot_index_1][plot_index_2].set_title('label: '+str(label),fontsize = 12)\n",
    "    ax[plot_index_1][plot_index_2].imshow(image)\n",
    "    ax[plot_index_1][plot_index_2].axis('off')\n",
    "for label in range(len(unique_labels),49):\n",
    "    plot_index_1 = int((label)/7.)\n",
    "    plot_index_2 = label - (int((label)/7.))*7\n",
    "    ax[plot_index_1][plot_index_2].axis('off')\n",
    "    \n",
    "fig.tight_layout()\n",
    "\n",
    "fig.savefig(r'report_images\\stopsign_examples.jpg')"
   ]
  },
  {
   "cell_type": "code",
   "execution_count": null,
   "metadata": {},
   "outputs": [],
   "source": []
  },
  {
   "cell_type": "markdown",
   "metadata": {},
   "source": [
    "----\n",
    "\n",
    "## Step 2: Design and Test a Model Architecture\n",
    "\n",
    "Design and implement a deep learning model that learns to recognize traffic signs. Train and test your model on the [German Traffic Sign Dataset](http://benchmark.ini.rub.de/?section=gtsrb&subsection=dataset).\n",
    "\n",
    "The LeNet-5 implementation shown in the [classroom](https://classroom.udacity.com/nanodegrees/nd013/parts/fbf77062-5703-404e-b60c-95b78b2f3f9e/modules/6df7ae49-c61c-4bb2-a23e-6527e69209ec/lessons/601ae704-1035-4287-8b11-e2c2716217ad/concepts/d4aca031-508f-4e0b-b493-e7b706120f81) at the end of the CNN lesson is a solid starting point. You'll have to change the number of classes and possibly the preprocessing, but aside from that it's plug and play! \n",
    "\n",
    "With the LeNet-5 solution from the lecture, you should expect a validation set accuracy of about 0.89. To meet specifications, the validation set accuracy will need to be at least 0.93. It is possible to get an even higher accuracy, but 0.93 is the minimum for a successful project submission. \n",
    "\n",
    "There are various aspects to consider when thinking about this problem:\n",
    "\n",
    "- Neural network architecture (is the network over or underfitting?)\n",
    "- Play around preprocessing techniques (normalization, rgb to grayscale, etc)\n",
    "- Number of examples per label (some have more than others).\n",
    "- Generate fake data.\n",
    "\n",
    "Here is an example of a [published baseline model on this problem](http://yann.lecun.com/exdb/publis/pdf/sermanet-ijcnn-11.pdf). It's not required to be familiar with the approach used in the paper but, it's good practice to try to read papers like these."
   ]
  },
  {
   "cell_type": "markdown",
   "metadata": {},
   "source": [
    "### Pre-process the Data Set (normalization, grayscale, etc.)"
   ]
  },
  {
   "cell_type": "markdown",
   "metadata": {},
   "source": [
    "Minimally, the image data should be normalized so that the data has mean zero and equal variance. For image data, `(pixel - 128)/ 128` is a quick way to approximately normalize the data and can be used in this project. \n",
    "\n",
    "Other pre-processing steps are optional. You can try different techniques to see if it improves performance. \n",
    "\n",
    "Use the code cell (or multiple code cells, if necessary) to implement the first step of your project."
   ]
  },
  {
   "cell_type": "code",
   "execution_count": 9,
   "metadata": {},
   "outputs": [],
   "source": [
    "### Preprocess the data here. It is required to normalize the data. Other preprocessing steps could include \n",
    "### converting to grayscale, etc.\n",
    "### Feel free to use as many code cells as needed."
   ]
  },
  {
   "cell_type": "code",
   "execution_count": 10,
   "metadata": {},
   "outputs": [],
   "source": [
    "import cv2\n",
    "def grayscale(imgs):\n",
    "    \"\"\"Applies the Grayscale transform\n",
    "    This will return an image with only one color channel\n",
    "    \"\"\"\n",
    "    grayimgs = []\n",
    "    for imgnum in range(imgs.shape[0]):\n",
    "        grayimg = cv2.cvtColor(imgs[imgnum], cv2.COLOR_RGB2GRAY)     \n",
    "        grayimgs.append(grayimg)\n",
    "    return np.array(grayimgs)\n",
    "def normalize(imgs):\n",
    "    \"\"\"\n",
    "    Normalize image by (pixel - 128)/ 128\n",
    "    \"\"\"\n",
    "    norm_imgs = (imgs-128.)/128.\n",
    "    return norm_imgs\n",
    "def changedim(imgs):\n",
    "    \"\"\"\n",
    "    change imgs dimensions to feed in convnet\n",
    "    \"\"\"   \n",
    "    newimgs = np.expand_dims(imgs, axis=3)\n",
    "    return newimgs"
   ]
  },
  {
   "cell_type": "code",
   "execution_count": 11,
   "metadata": {
    "scrolled": true
   },
   "outputs": [
    {
     "name": "stdout",
     "output_type": "stream",
     "text": [
      "raw images shape is : (34799, 32, 32, 3)\n",
      "gray images shape is : (34799, 32, 32)\n",
      "norm images shape is : (34799, 32, 32)\n"
     ]
    },
    {
     "data": {
      "image/png": "[encoded data removed]",
      "text/plain": [
       "<matplotlib.figure.Figure at 0x15400566ba8>"
      ]
     },
     "metadata": {},
     "output_type": "display_data"
    }
   ],
   "source": [
    "X_train_gray = grayscale(X_train)\n",
    "X_train_norm = normalize(X_train_gray)\n",
    "\n",
    "X_valid_gray = grayscale(X_valid)\n",
    "X_valid_norm = normalize(X_valid_gray)\n",
    "\n",
    "X_test_gray = grayscale(X_test)\n",
    "X_test_norm = normalize(X_test_gray )\n",
    "print ('raw images shape is : {}'.format(X_train.shape))\n",
    "print ('gray images shape is : {}'.format(X_train_gray.shape))\n",
    "print ('norm images shape is : {}'.format(X_train_norm.shape))\n",
    "\n",
    "fig, ax = plt.subplots(1, 3, figsize=(8, 3))\n",
    "ax[0].imshow(X_train[100])\n",
    "ax[0].set_title('raw image')\n",
    "ax[0].axis('off')\n",
    "ax[1].imshow(X_train_gray[100],cmap = 'gray')\n",
    "ax[1].set_title('gray image')\n",
    "ax[1].axis('off')\n",
    "ax[2].imshow(X_train_norm[100],cmap = 'gray')\n",
    "ax[2].axis('off')\n",
    "ax[2].set_title('normalized grey image')\n",
    "fig.tight_layout()\n",
    "fig.savefig(r'report_images\\stopsign_gery_and_norm.jpg')"
   ]
  },
  {
   "cell_type": "code",
   "execution_count": 12,
   "metadata": {},
   "outputs": [
    {
     "name": "stdout",
     "output_type": "stream",
     "text": [
      "final input image to Convnet shape is : (34799, 32, 32, 1)\n"
     ]
    }
   ],
   "source": [
    "X_train_input = changedim(X_train_norm)\n",
    "X_valid_input = changedim(X_valid_norm)\n",
    "X_test_input = changedim(X_test_norm)\n",
    "print ('final input image to Convnet shape is : {}'.format(X_train_input.shape))"
   ]
  },
  {
   "cell_type": "code",
   "execution_count": 13,
   "metadata": {},
   "outputs": [
    {
     "data": {
      "text/plain": [
       "<matplotlib.image.AxesImage at 0x154002287f0>"
      ]
     },
     "execution_count": 13,
     "metadata": {},
     "output_type": "execute_result"
    },
    {
     "data": {
      "image/png": "[encoded data removed]",
      "text/plain": [
       "<matplotlib.figure.Figure at 0x15467b74080>"
      ]
     },
     "metadata": {},
     "output_type": "display_data"
    }
   ],
   "source": [
    "plt.imshow(X_train_norm[0])"
   ]
  },
  {
   "cell_type": "code",
   "execution_count": 14,
   "metadata": {},
   "outputs": [
    {
     "name": "stdout",
     "output_type": "stream",
     "text": [
      "(32, 32, 3)\n"
     ]
    },
    {
     "data": {
      "text/plain": [
       "<matplotlib.image.AxesImage at 0x15400194ba8>"
      ]
     },
     "execution_count": 14,
     "metadata": {},
     "output_type": "execute_result"
    },
    {
     "data": {
      "image/png": "[encoded data removed]",
      "text/plain": [
       "<matplotlib.figure.Figure at 0x15400205eb8>"
      ]
     },
     "metadata": {},
     "output_type": "display_data"
    }
   ],
   "source": [
    "print(X_train[0].shape)\n",
    "plt.imshow(X_train[0])\n",
    "#plt.imshow(X_train_input[0].squeeze(),cmap = 'gray')\n",
    "#print(X_train[0])"
   ]
  },
  {
   "cell_type": "markdown",
   "metadata": {},
   "source": [
    "### Train, Validate and Test the Model"
   ]
  },
  {
   "cell_type": "markdown",
   "metadata": {},
   "source": [
    "A validation set can be used to assess how well the model is performing. A low accuracy on the training and validation\n",
    "sets imply underfitting. A high accuracy on the training set but low accuracy on the validation set implies overfitting."
   ]
  },
  {
   "cell_type": "code",
   "execution_count": 15,
   "metadata": {},
   "outputs": [],
   "source": [
    "### Train your model here.\n",
    "### Calculate and report the accuracy on the training and validation set.\n",
    "### Once a final model architecture is selected, \n",
    "### the accuracy on the test set should be calculated and reported as well.\n",
    "### Feel free to use as many code cells as needed."
   ]
  },
  {
   "cell_type": "markdown",
   "metadata": {},
   "source": [
    "# Shuffle data"
   ]
  },
  {
   "cell_type": "code",
   "execution_count": 16,
   "metadata": {},
   "outputs": [],
   "source": [
    "from sklearn.utils import shuffle\n",
    "X_train_input, y_train = shuffle(X_train_input, y_train)"
   ]
  },
  {
   "cell_type": "markdown",
   "metadata": {},
   "source": [
    "# Prepare tensorflow"
   ]
  },
  {
   "cell_type": "code",
   "execution_count": 17,
   "metadata": {},
   "outputs": [],
   "source": [
    "import tensorflow as tf\n",
    "\n"
   ]
  },
  {
   "cell_type": "markdown",
   "metadata": {},
   "source": [
    "# Define training layers"
   ]
  },
  {
   "cell_type": "code",
   "execution_count": 18,
   "metadata": {},
   "outputs": [],
   "source": [
    "from tensorflow.contrib.layers import flatten\n",
    "\n",
    "def LeNet(x,dropprob,batchnorm):    \n",
    "    # Arguments used for tf.truncated_normal, randomly defines variables for the weights and biases for each layer\n",
    "    mu = 0\n",
    "    sigma = 0.1\n",
    "    \n",
    "    # TODO: Layer 1: Convolutional. Input = 32x32x1. Output = 28x28x6.\n",
    "    conv1_w = tf.Variable(tf.truncated_normal(shape = (5,5,1,6),mean = mu, stddev=sigma))\n",
    "    conv1_b = tf.Variable(tf.zeros(6))\n",
    "    conv1 = tf.add(tf.nn.conv2d(x,conv1_w,strides = [1,1,1,1],padding = 'VALID'),conv1_b)\n",
    "    # TODO: Activation.\n",
    "    conv1_act = tf.nn.relu(conv1)\n",
    "    # TODO: Pooling. Input = 28x28x6. Output = 14x14x6.\n",
    "    conv1_pool = tf.nn.max_pool(conv1_act,ksize=(1,2,2,1),strides= (1,2,2,1),padding = 'VALID')\n",
    "    # TODO: Layer 2: Convolutional. Output = 10x10x16.\n",
    "    conv2_w = tf.Variable(tf.truncated_normal(shape = (5,5,6,16),mean = mu, stddev=sigma))\n",
    "    conv2_b = tf.Variable(tf.zeros(16))\n",
    "    conv2 = tf.add(tf.nn.conv2d(conv1_pool,conv2_w,strides = [1,1,1,1],padding = 'VALID'),conv2_b)\n",
    "    # TODO: Activation.\n",
    "    conv2_act = tf.nn.relu(conv2)\n",
    "    # TODO: Pooling. Input = 10x10x16. Output = 5x5x16.\n",
    "    conv2_pool = tf.nn.max_pool(conv2_act,ksize=(1,2,2,1),strides= (1,2,2,1),padding = 'VALID')\n",
    "    # TODO: Flatten. Input = 5x5x16. Output = 400.\n",
    "    fc0 = flatten(conv2_pool)\n",
    "    # TODO: Layer 3: Fully Connected. Input = 400. Output = 120.\n",
    "    fc1_w = tf.Variable(tf.truncated_normal(shape = (400,120),mean = mu, stddev=sigma))\n",
    "    fc1_b = tf.Variable(tf.zeros(120))\n",
    "    fc1 = tf.add(tf.matmul(fc0,fc1_w),fc1_b)\n",
    "\n",
    "    # TODO: Activation.\n",
    "    fc1_act = tf.nn.relu(fc1)\n",
    "    \n",
    "    # Dropout\n",
    "    fc1_act = tf.nn.dropout(fc1_act,keep_prob= dropprob)\n",
    "    # TODO: Layer 4: Fully Connected. Input = 120. Output = 84.\n",
    "    fc2_w = tf.Variable(tf.truncated_normal(shape = (120,84),mean = mu, stddev=sigma))\n",
    "    fc2_b = tf.Variable(tf.zeros(84))\n",
    "    fc2 = tf.add(tf.matmul(fc1_act,fc2_w),fc2_b)\n",
    "    # TODO: Activation.\n",
    "    fc2_act = tf.nn.relu(fc2)\n",
    "    # Dropout\n",
    "    fc2_act = tf.nn.dropout(fc2_act, keep_prob= dropprob)\n",
    "    # TODO: Layer 5: Fully Connected. Input = 84. Output = 10.\n",
    "    fc3_w = tf.Variable(tf.truncated_normal(shape = (84,43),mean = mu, stddev=sigma))\n",
    "    fc3_b = tf.Variable(tf.zeros(43))\n",
    "    logits = tf.add(tf.matmul(fc2_act,fc3_w),fc3_b)\n",
    "    regularizers = tf.nn.l2_loss(conv1_w)\n",
    "    for weights in [conv2_w,fc1_w,fc2_w,fc3_w]:\n",
    "        regularizers += tf.nn.l2_loss(weights)\n",
    "    return logits,regularizers"
   ]
  },
  {
   "cell_type": "code",
   "execution_count": 19,
   "metadata": {},
   "outputs": [],
   "source": [
    "def train_model(print_info = 1, rate = 0.001, EPOCHS = 20, BATCH_SIZE = 64,regu_beta = 0,dropprob = 1,X_train_input = X_train_input,y_train = y_train,X_valid_input = X_valid_input, y_valid = y_valid):\n",
    "\n",
    "#####Above are hyper parameters\n",
    "\n",
    "    x = tf.placeholder(tf.float32, (None, 32, 32, 1))\n",
    "    y = tf.placeholder(tf.int32, (None))\n",
    "    \n",
    "    dropprob_holder = tf.placeholder(tf.float32,(None))\n",
    "    \n",
    "    one_hot_y = tf.one_hot(y, 43)\n",
    "\n",
    "    tf.logging.set_verbosity(tf.logging.INFO)\n",
    "\n",
    "    logits,regularizers = LeNet(x,dropprob = dropprob_holder)\n",
    "    cross_entropy = tf.nn.softmax_cross_entropy_with_logits(labels=one_hot_y, logits=logits)\n",
    "\n",
    "    regu_term = regularizers * regu_beta\n",
    "    loss_operation = tf.reduce_mean(cross_entropy + regu_term)\n",
    "    optimizer = tf.train.AdamOptimizer(learning_rate = rate)\n",
    "    training_operation = optimizer.minimize(loss_operation)\n",
    "    # don't use dropout for test and valid set\n",
    "    \n",
    "    correct_prediction = tf.equal(tf.argmax(logits, 1), tf.argmax(one_hot_y, 1))\n",
    "    accuracy_operation = tf.reduce_mean(tf.cast(correct_prediction, tf.float32))\n",
    "    saver = tf.train.Saver()\n",
    "\n",
    "    def evaluate(X_data, y_data):\n",
    "        num_examples = len(X_data)\n",
    "        total_accuracy = 0\n",
    "        sess = tf.get_default_session()\n",
    "        for offset in range(0, num_examples, BATCH_SIZE):\n",
    "            batch_x, batch_y = X_data[offset:offset+BATCH_SIZE], y_data[offset:offset+BATCH_SIZE]\n",
    "            accuracy = sess.run(accuracy_operation, feed_dict={x: batch_x, y: batch_y,dropprob_holder: 1.0})\n",
    "            total_accuracy += (accuracy * len(batch_x))\n",
    "        return total_accuracy / num_examples\n",
    "\n",
    "    with tf.Session() as sess:\n",
    "        sess.run(tf.global_variables_initializer())\n",
    "        num_examples = len(X_train_input)\n",
    "\n",
    "        print(\"Training...\")\n",
    "        print()\n",
    "\n",
    "        train_accuracies = []\n",
    "        validation_accuracies = []\n",
    "        loss_list = []\n",
    "        for i in range(EPOCHS):\n",
    "            X_train_input, y_train = shuffle(X_train_input, y_train)\n",
    "            for offset in range(0, num_examples, BATCH_SIZE):\n",
    "                end = offset + BATCH_SIZE\n",
    "                batch_x, batch_y = X_train_input[offset:end], y_train[offset:end]\n",
    "                sess.run(training_operation, feed_dict={x: batch_x, y: batch_y,dropprob_holder: float(dropprob)})\n",
    "            train_accuracy = evaluate(X_train_input, y_train)    \n",
    "            validation_accuracy = evaluate(X_valid_input, y_valid)\n",
    "            train_accuracies.append(train_accuracy)\n",
    "            validation_accuracies.append(validation_accuracy)\n",
    "            loss = sess.run(loss_operation,feed_dict={x: X_train_input, y: y_train, dropprob_holder: float(dropprob)})\n",
    "            loss_list.append(loss)\n",
    "            if  print_info == 1:\n",
    "                print(\"Loss at EPOCH{} = {:.5f}\".format(i+1, loss))\n",
    "                print(\"Training Accuracy = {:.3f}\".format(train_accuracy))\n",
    "                print(\"Validation Accuracy = {:.3f}\".format(validation_accuracy))\n",
    "  \n",
    "\n",
    "        #saver.save(sess, './lenet')\n",
    "        #print(\"Model saved\")\n",
    "        return train_accuracies,validation_accuracies,loss_list"
   ]
  },
  {
   "cell_type": "code",
   "execution_count": 20,
   "metadata": {},
   "outputs": [],
   "source": [
    "def draw_acc(train_accuracies,validation_accuracies,loss_list,EPOCHS,title_1,title_2):\n",
    "    fig,ax = plt.subplots(1,2,figsize = [22,7])\n",
    "    x_values =range(1,EPOCHS+1)\n",
    "    ax[0].plot(x_values, train_accuracies,label = 'train accuracy' ,marker = 'o')\n",
    "    ax[0].plot(x_values, validation_accuracies,label = 'validation accuracy', marker = 'o')\n",
    "    for num in range(0,EPOCHS,1):\n",
    "        ax[0].text(x_values[num],train_accuracies[num] - 0.02,str(round(train_accuracies[num],2)))\n",
    "        ax[0].text(x_values[num],validation_accuracies[num] - 0.02,str(round(validation_accuracies[num],2)))\n",
    "    ax[0].set_yticks(np.arange(0.5,1.01,0.1))\n",
    "    ax[0].set_xticks(x_values)\n",
    "    ax[0].set_ylabel('accuracy performance')\n",
    "    ax[0].set_title(title_1)\n",
    "    ax[0].legend() \n",
    "\n",
    "    ax[1].plot(x_values, loss_list,label = 'loss' ,marker = 'o')\n",
    "    for num in range(0,EPOCHS,1):\n",
    "        ax[1].text(x_values[num],loss_list[num] + 0.02,str(round(loss_list[num],2)))\n",
    "    ax[1].set_yticks(np.arange(0.0,1.05,0.2))\n",
    "    ax[1].set_xticks(x_values)\n",
    "    ax[1].set_xlabel('EPOCH')\n",
    "    ax[1].set_ylabel('loss')\n",
    "    ax[1].set_title(title_2)\n",
    "    ax[1].legend()\n",
    "    return fig"
   ]
  },
  {
   "cell_type": "markdown",
   "metadata": {},
   "source": [
    "# Define empty train result"
   ]
  },
  {
   "cell_type": "code",
   "execution_count": 21,
   "metadata": {},
   "outputs": [],
   "source": [
    "# define a pandas dataframe to store training output\n",
    "from matplotlib.backends.backend_pdf import PdfPages\n",
    "import pandas as pd\n",
    "def empty_train_result():\n",
    "    train_result = pd.DataFrame(columns = ['rate','EPOCH','BATCH_SIZE','train_acc','valid_acc','loss','layer_size','regularization','CNN_type','final_trainacc','final_validacc'])\n",
    "    return train_result"
   ]
  },
  {
   "cell_type": "markdown",
   "metadata": {},
   "source": [
    "# Baseline test"
   ]
  },
  {
   "cell_type": "code",
   "execution_count": 119,
   "metadata": {},
   "outputs": [
    {
     "name": "stdout",
     "output_type": "stream",
     "text": [
      "Training...\n",
      "\n",
      "Loss at EPOCH1 = 0.45564\n",
      "Training Accuracy = 0.878\n",
      "Validation Accuracy = 0.805\n",
      "Loss at EPOCH2 = 0.23381\n",
      "Training Accuracy = 0.938\n",
      "Validation Accuracy = 0.859\n",
      "Loss at EPOCH3 = 0.16098\n",
      "Training Accuracy = 0.956\n",
      "Validation Accuracy = 0.867\n",
      "Loss at EPOCH4 = 0.09409\n",
      "Training Accuracy = 0.978\n",
      "Validation Accuracy = 0.899\n",
      "Loss at EPOCH5 = 0.08351\n",
      "Training Accuracy = 0.978\n",
      "Validation Accuracy = 0.899\n",
      "Loss at EPOCH6 = 0.05616\n",
      "Training Accuracy = 0.985\n",
      "Validation Accuracy = 0.895\n",
      "Loss at EPOCH7 = 0.06279\n",
      "Training Accuracy = 0.980\n",
      "Validation Accuracy = 0.879\n",
      "Loss at EPOCH8 = 0.03306\n",
      "Training Accuracy = 0.991\n",
      "Validation Accuracy = 0.906\n",
      "Loss at EPOCH9 = 0.02529\n",
      "Training Accuracy = 0.993\n",
      "Validation Accuracy = 0.914\n",
      "Loss at EPOCH10 = 0.01619\n",
      "Training Accuracy = 0.996\n",
      "Validation Accuracy = 0.920\n",
      "Loss at EPOCH11 = 0.02420\n",
      "Training Accuracy = 0.993\n",
      "Validation Accuracy = 0.897\n",
      "Loss at EPOCH12 = 0.01507\n",
      "Training Accuracy = 0.996\n",
      "Validation Accuracy = 0.912\n",
      "Loss at EPOCH13 = 0.01659\n",
      "Training Accuracy = 0.995\n",
      "Validation Accuracy = 0.912\n",
      "Loss at EPOCH14 = 0.00854\n",
      "Training Accuracy = 0.998\n",
      "Validation Accuracy = 0.922\n",
      "Loss at EPOCH15 = 0.01188\n",
      "Training Accuracy = 0.997\n",
      "Validation Accuracy = 0.911\n",
      "Loss at EPOCH16 = 0.01581\n",
      "Training Accuracy = 0.995\n",
      "Validation Accuracy = 0.916\n",
      "Loss at EPOCH17 = 0.01833\n",
      "Training Accuracy = 0.994\n",
      "Validation Accuracy = 0.905\n",
      "Loss at EPOCH18 = 0.00971\n",
      "Training Accuracy = 0.997\n",
      "Validation Accuracy = 0.922\n",
      "Loss at EPOCH19 = 0.00742\n",
      "Training Accuracy = 0.998\n",
      "Validation Accuracy = 0.931\n",
      "Loss at EPOCH20 = 0.00790\n",
      "Training Accuracy = 0.998\n",
      "Validation Accuracy = 0.922\n"
     ]
    }
   ],
   "source": [
    "train_accuracies,validation_accuracies,loss_list,fig = train_model()\n",
    "pp = PdfPages(r'hyper_para_testing\\baseline\\baseline.pdf')\n",
    "pp.savefig(fig)\n",
    "plt.close(fig)\n",
    "pp.close()"
   ]
  },
  {
   "cell_type": "markdown",
   "metadata": {},
   "source": [
    "# Dropout keep prob test\n",
    "test the keep prob value from 0.3 to 1.0, to see the accuracy and loss changes/\n",
    "Save the results into a csv file, and plot into a pdf file"
   ]
  },
  {
   "cell_type": "code",
   "execution_count": 32,
   "metadata": {},
   "outputs": [],
   "source": [
    "p = pd.read_csv(r\"hyper_para_testing\\rate_and_batchsize\\train_result_rate_batchsize.csv\")\n",
    "\n",
    "q = p.loc[:,['train_acc','valid_acc','loss']]\n",
    "\n",
    "import itertools\n",
    "pp = PdfPages(r'hyper_para_testing\\rate_and_batchsize\\rate_and_batchsize.pdf')\n",
    "import ast\n",
    "num = 0\n",
    "for para in itertools.product([0.001,0.01,0.1,0.5],[64,128,256,512]):\n",
    "    num+=1\n",
    "    rate,BATCH_SIZE = para\n",
    "    train_acc,valid_acc,loss = ast.literal_eval(q.loc[num-1,'train_acc']),ast.literal_eval(q.loc[num-1,'valid_acc']),ast.literal_eval(q.loc[num-1,'loss'])\n",
    "    title_1 = 'accuracy rate:{} , batch_size:{}'.format(rate,BATCH_SIZE)\n",
    "    title_2 = 'loss  rate:{} , batch_size:{}'.format(rate,BATCH_SIZE)\n",
    "    fig = draw_acc(train_acc,valid_acc,loss,20,title_1,title_2)\n",
    "    pp.savefig(fig)\n",
    "    plt.close(fig)\n",
    "pp.close()"
   ]
  },
  {
   "cell_type": "code",
   "execution_count": 132,
   "metadata": {},
   "outputs": [
    {
     "name": "stdout",
     "output_type": "stream",
     "text": [
      "traininig progress 1/8\n",
      "Training...\n",
      "\n",
      "traininig progress 2/8\n",
      "Training...\n",
      "\n",
      "traininig progress 3/8\n",
      "Training...\n",
      "\n",
      "traininig progress 4/8\n",
      "Training...\n",
      "\n",
      "traininig progress 5/8\n",
      "Training...\n",
      "\n",
      "traininig progress 6/8\n",
      "Training...\n",
      "\n",
      "traininig progress 7/8\n",
      "Training...\n",
      "\n",
      "traininig progress 8/8\n",
      "Training...\n",
      "\n"
     ]
    }
   ],
   "source": [
    "train_result = empty_train_result()\n",
    "import itertools\n",
    "pp = PdfPages(r'hyper_para_testing\\dropout\\dropout_test.pdf')\n",
    "\n",
    "num = 0\n",
    "for dropprob in [0.3,0.4,0.5,0.6,0.7,0.8,0.9,1]:\n",
    "    num+=1\n",
    "    print ('traininig progress {}/{}'.format(num,8))\n",
    "\n",
    "    train_acc,valid_acc,loss,fig = train_model(print_info = 0, rate = 0.001, EPOCHS = 20, BATCH_SIZE = 128,dropprob = dropprob)\n",
    "    train_result = train_result.append(pd.DataFrame(data = np.array([[0.001,20,64,0,0,0,5,'dropout_prob = {}'.format(dropprob),'LENET',train_acc[-1],valid_acc[-1]]]),columns = train_result.columns ))\n",
    "    train_result.iloc[-1]['train_acc']=train_acc\n",
    "    train_result.iloc[-1]['valid_acc']=valid_acc\n",
    "    train_result.iloc[-1]['loss']=loss\n",
    "    fig = draw_acc(train_acc,valid_acc,loss,20,'dropout prob {} accuracy'.format(dropprob),'dropout prob {} loss'.format(dropprob))\n",
    "    pp.savefig(fig)\n",
    "    plt.close(fig)\n",
    "pp.close()\n",
    "train_result.to_csv(r\"hyper_para_testing\\dropout\\train_result_dropout.csv\",float_format = '%.4f', index = False)"
   ]
  },
  {
   "cell_type": "markdown",
   "metadata": {},
   "source": [
    "# learning rate/batch size test"
   ]
  },
  {
   "cell_type": "code",
   "execution_count": 138,
   "metadata": {},
   "outputs": [
    {
     "name": "stdout",
     "output_type": "stream",
     "text": [
      "traininig progress 1/16\n",
      "Training...\n",
      "\n",
      "traininig progress 2/16\n",
      "Training...\n",
      "\n",
      "traininig progress 3/16\n",
      "Training...\n",
      "\n",
      "traininig progress 4/16\n",
      "Training...\n",
      "\n",
      "traininig progress 5/16\n",
      "Training...\n",
      "\n",
      "traininig progress 6/16\n",
      "Training...\n",
      "\n",
      "traininig progress 7/16\n",
      "Training...\n",
      "\n",
      "traininig progress 8/16\n",
      "Training...\n",
      "\n",
      "traininig progress 9/16\n",
      "Training...\n",
      "\n",
      "traininig progress 10/16\n",
      "Training...\n",
      "\n",
      "traininig progress 11/16\n",
      "Training...\n",
      "\n",
      "traininig progress 12/16\n",
      "Training...\n",
      "\n",
      "traininig progress 13/16\n",
      "Training...\n",
      "\n",
      "traininig progress 14/16\n",
      "Training...\n",
      "\n",
      "traininig progress 15/16\n",
      "Training...\n",
      "\n",
      "traininig progress 16/16\n",
      "Training...\n",
      "\n"
     ]
    }
   ],
   "source": [
    "train_result = empty_train_result()\n",
    "import itertools\n",
    "\n",
    "pp = PdfPages(r'hyper_para_testing\\rate_and_batchsize\\rate_and_batchsize.pdf')\n",
    "num = 0\n",
    "for para in itertools.product([0.001,0.01,0.1,0.5],[64,128,256,512]):\n",
    "    rate,BATCH_SIZE = para\n",
    "    num+=1\n",
    "    print ('traininig progress {}/{}'.format(num,16))\n",
    "\n",
    "    train_acc,valid_acc,loss = train_model(print_info = 0, rate = rate, EPOCHS = 20, BATCH_SIZE = BATCH_SIZE)\n",
    "    train_result = train_result.append(pd.DataFrame(data = np.array([[rate,20,BATCH_SIZE,0,0,0,5,'NO','LENET',train_acc[-1],valid_acc[-1]]]),columns = train_result.columns ))\n",
    "    train_result.iloc[-1]['train_acc']=train_acc\n",
    "    train_result.iloc[-1]['valid_acc']=valid_acc\n",
    "    train_result.iloc[-1]['loss']=loss\n",
    "    title_1 = 'accuracy   rate:{} , learningrate:{}'.format(rate,BATCH_SIZE)\n",
    "    title_2 = 'loss  rate:{} , learningrate:{}'.format(rate,BATCH_SIZE)\n",
    "    fig = draw_acc(train_acc,valid_acc,loss,20,title_1,title_2)\n",
    "    pp.savefig(fig)\n",
    "    plt.close(fig)\n",
    "pp.close()\n",
    "train_result.to_csv( r'hyper_para_testing\\rate_and_batchsize\\train_result_rate_batchsize.csv',float_format = '%.4f', index = False)"
   ]
  },
  {
   "cell_type": "markdown",
   "metadata": {},
   "source": [
    "# L2 Regularization test"
   ]
  },
  {
   "cell_type": "code",
   "execution_count": null,
   "metadata": {},
   "outputs": [],
   "source": [
    "train_result = empty_train_result()\n",
    "rate = 0.001   \n",
    "EPOCHS = 20\n",
    "BATCH_SIZE = 128\n",
    "pp = PdfPages(r'hyper_para_testing\\L2_norm\\L2_norm_test.pdf')\n",
    "num=0\n",
    "for regu_beta in [0,0.001,0.005,0.01,0.05,0.1]:\n",
    "    num+=1\n",
    "    print('training {}/6'.format(num))\n",
    "    train_acc,valid_acc,loss= train_model(print_info = 0, rate = rate, EPOCHS = EPOCHS, BATCH_SIZE = BATCH_SIZE,regu_beta =regu_beta)\n",
    "\n",
    "    train_result = train_result.append(pd.DataFrame(data = np.array([[rate,20,BATCH_SIZE,0,0,0,5,'L2norm with beta = {}'.format(regu_beta),'LENET',train_acc[-1],valid_acc[-1]]]),columns = train_result.columns ))\n",
    "    train_result.iloc[-1]['train_acc']=train_acc\n",
    "    train_result.iloc[-1]['valid_acc']=valid_acc\n",
    "    train_result.iloc[-1]['loss']=loss\n",
    "    title_1 = 'accuracy l2_norm beta = {}'.format(regu_beta)\n",
    "    title_2 = 'loss l2_norm beta = {}'.format(regu_beta)\n",
    "    fig = draw_acc(train_acc,valid_acc,loss,20,title_1,title_2)\n",
    "    pp.savefig(fig)\n",
    "    plt.close(fig)\n",
    "pp.close()\n",
    "train_result.to_csv( r\"hyper_para_testing\\L2_norm\\train_result_l2regluarization.csv\",float_format = '%.4f', index = False)\n"
   ]
  },
  {
   "cell_type": "markdown",
   "metadata": {},
   "source": [
    "# Additional L2_norm test"
   ]
  },
  {
   "cell_type": "code",
   "execution_count": 45,
   "metadata": {
    "scrolled": true
   },
   "outputs": [
    {
     "name": "stdout",
     "output_type": "stream",
     "text": [
      "training 1/3\n",
      "Training...\n",
      "\n",
      "training 2/3\n",
      "Training...\n",
      "\n",
      "training 3/3\n",
      "Training...\n",
      "\n"
     ]
    }
   ],
   "source": [
    "train_result = empty_train_result()\n",
    "rate = 0.001   \n",
    "EPOCHS = 20\n",
    "BATCH_SIZE = 128\n",
    "pp = PdfPages(r'hyper_para_testing\\L2_norm\\L2_norm_test_additional_2.pdf')\n",
    "num=0\n",
    "for regu_beta in [0.0003,0.0005,0.0008]:\n",
    "    num+=1\n",
    "    print('training {}/3'.format(num))\n",
    "    train_acc,valid_acc,loss= train_model(print_info = 0, rate = rate, EPOCHS = EPOCHS, BATCH_SIZE = BATCH_SIZE,regu_beta =regu_beta)\n",
    "\n",
    "    train_result = train_result.append(pd.DataFrame(data = np.array([[rate,20,BATCH_SIZE,0,0,0,5,'L2norm with beta = {}'.format(regu_beta),'LENET',train_acc[-1],valid_acc[-1]]]),columns = train_result.columns ))\n",
    "    train_result.iloc[-1]['train_acc']=train_acc\n",
    "    train_result.iloc[-1]['valid_acc']=valid_acc\n",
    "    train_result.iloc[-1]['loss']=loss\n",
    "    title_1 = 'accuracy l2_norm beta = {}'.format(regu_beta)\n",
    "    title_2 = 'loss l2_norm beta = {}'.format(regu_beta)\n",
    "    fig = draw_acc(train_acc,valid_acc,loss,20,title_1,title_2)\n",
    "    pp.savefig(fig)\n",
    "    plt.close(fig)\n",
    "pp.close()\n",
    "train_result.to_csv( r\"hyper_para_testing\\L2_norm\\train_result_l2regluarization_additional_2.csv\",float_format = '%.4f', index = False)\n"
   ]
  },
  {
   "cell_type": "markdown",
   "metadata": {},
   "source": [
    "# Test with combining dropout and L2_norm "
   ]
  },
  {
   "cell_type": "code",
   "execution_count": 47,
   "metadata": {},
   "outputs": [
    {
     "name": "stdout",
     "output_type": "stream",
     "text": [
      "Training...\n",
      "\n"
     ]
    }
   ],
   "source": [
    "train_result = empty_train_result()\n",
    "rate = 0.001   \n",
    "EPOCHS = 20\n",
    "BATCH_SIZE = 128\n",
    "pp = PdfPages(r'hyper_para_testing\\dropout_and_L2_norm\\dropout_and_L2norm.pdf')\n",
    "regu_beta = 0.001\n",
    "dropprob = 0.5\n",
    "train_acc,valid_acc,loss= train_model(print_info = 0, rate = rate, EPOCHS = EPOCHS, BATCH_SIZE = BATCH_SIZE,dropprob = dropprob, regu_beta =regu_beta)\n",
    "\n",
    "train_result = train_result.append(pd.DataFrame(data = np.array([[rate,20,BATCH_SIZE,0,0,0,5,'l2_norm beta = {}, dropout prob = {}'.format(regu_beta,dropprob),'LENET',train_acc[-1],valid_acc[-1]]]),columns = train_result.columns ))\n",
    "train_result.iloc[-1]['train_acc']=train_acc\n",
    "train_result.iloc[-1]['valid_acc']=valid_acc\n",
    "train_result.iloc[-1]['loss']=loss\n",
    "title_1 = 'accuracy: l2_norm beta = {}, dropout prob = {}'.format(regu_beta,dropprob)\n",
    "title_2 = 'loss: l2_norm beta = {}, dropout prob = {}'.format(regu_beta,dropprob)\n",
    "fig = draw_acc(train_acc,valid_acc,loss,20,title_1,title_2)\n",
    "pp.savefig(fig)\n",
    "plt.close(fig)\n",
    "pp.close()\n",
    "train_result.to_csv( r\"hyper_para_testing\\dropout_and_L2_norm\\dropout_and_L2_norm.csv\",float_format = '%.4f', index = False)\n"
   ]
  },
  {
   "cell_type": "markdown",
   "metadata": {},
   "source": [
    "# Testing with different optimizers"
   ]
  },
  {
   "cell_type": "code",
   "execution_count": null,
   "metadata": {},
   "outputs": [],
   "source": []
  },
  {
   "cell_type": "code",
   "execution_count": null,
   "metadata": {},
   "outputs": [],
   "source": []
  },
  {
   "cell_type": "code",
   "execution_count": null,
   "metadata": {},
   "outputs": [],
   "source": []
  },
  {
   "cell_type": "code",
   "execution_count": null,
   "metadata": {},
   "outputs": [],
   "source": []
  },
  {
   "cell_type": "code",
   "execution_count": null,
   "metadata": {},
   "outputs": [],
   "source": []
  },
  {
   "cell_type": "code",
   "execution_count": null,
   "metadata": {},
   "outputs": [],
   "source": []
  },
  {
   "cell_type": "code",
   "execution_count": null,
   "metadata": {},
   "outputs": [],
   "source": []
  },
  {
   "cell_type": "markdown",
   "metadata": {},
   "source": [
    "---\n",
    "\n",
    "## Step 3: Test a Model on New Images\n",
    "\n",
    "To give yourself more insight into how your model is working, download at least five pictures of German traffic signs from the web and use your model to predict the traffic sign type.\n",
    "\n",
    "You may find `signnames.csv` useful as it contains mappings from the class id (integer) to the actual sign name."
   ]
  },
  {
   "cell_type": "markdown",
   "metadata": {},
   "source": [
    "### Load and Output the Images"
   ]
  },
  {
   "cell_type": "code",
   "execution_count": null,
   "metadata": {
    "collapsed": true
   },
   "outputs": [],
   "source": [
    "### Load the images and plot them here.\n",
    "### Feel free to use as many code cells as needed."
   ]
  },
  {
   "cell_type": "markdown",
   "metadata": {},
   "source": [
    "### Predict the Sign Type for Each Image"
   ]
  },
  {
   "cell_type": "code",
   "execution_count": 3,
   "metadata": {
    "collapsed": true
   },
   "outputs": [],
   "source": [
    "### Run the predictions here and use the model to output the prediction for each image.\n",
    "### Make sure to pre-process the images with the same pre-processing pipeline used earlier.\n",
    "### Feel free to use as many code cells as needed."
   ]
  },
  {
   "cell_type": "markdown",
   "metadata": {},
   "source": [
    "### Analyze Performance"
   ]
  },
  {
   "cell_type": "code",
   "execution_count": 4,
   "metadata": {
    "collapsed": true
   },
   "outputs": [],
   "source": [
    "### Calculate the accuracy for these 5 new images. \n",
    "### For example, if the model predicted 1 out of 5 signs correctly, it's 20% accurate on these new images."
   ]
  },
  {
   "cell_type": "markdown",
   "metadata": {},
   "source": [
    "### Output Top 5 Softmax Probabilities For Each Image Found on the Web"
   ]
  },
  {
   "cell_type": "markdown",
   "metadata": {},
   "source": [
    "For each of the new images, print out the model's softmax probabilities to show the **certainty** of the model's predictions (limit the output to the top 5 probabilities for each image). [`tf.nn.top_k`](https://www.tensorflow.org/versions/r0.12/api_docs/python/nn.html#top_k) could prove helpful here. \n",
    "\n",
    "The example below demonstrates how tf.nn.top_k can be used to find the top k predictions for each image.\n",
    "\n",
    "`tf.nn.top_k` will return the values and indices (class ids) of the top k predictions. So if k=3, for each sign, it'll return the 3 largest probabilities (out of a possible 43) and the correspoding class ids.\n",
    "\n",
    "Take this numpy array as an example. The values in the array represent predictions. The array contains softmax probabilities for five candidate images with six possible classes. `tf.nn.top_k` is used to choose the three classes with the highest probability:\n",
    "\n",
    "```\n",
    "# (5, 6) array\n",
    "a = np.array([[ 0.24879643,  0.07032244,  0.12641572,  0.34763842,  0.07893497,\n",
    "         0.12789202],\n",
    "       [ 0.28086119,  0.27569815,  0.08594638,  0.0178669 ,  0.18063401,\n",
    "         0.15899337],\n",
    "       [ 0.26076848,  0.23664738,  0.08020603,  0.07001922,  0.1134371 ,\n",
    "         0.23892179],\n",
    "       [ 0.11943333,  0.29198961,  0.02605103,  0.26234032,  0.1351348 ,\n",
    "         0.16505091],\n",
    "       [ 0.09561176,  0.34396535,  0.0643941 ,  0.16240774,  0.24206137,\n",
    "         0.09155967]])\n",
    "```\n",
    "\n",
    "Running it through `sess.run(tf.nn.top_k(tf.constant(a), k=3))` produces:\n",
    "\n",
    "```\n",
    "TopKV2(values=array([[ 0.34763842,  0.24879643,  0.12789202],\n",
    "       [ 0.28086119,  0.27569815,  0.18063401],\n",
    "       [ 0.26076848,  0.23892179,  0.23664738],\n",
    "       [ 0.29198961,  0.26234032,  0.16505091],\n",
    "       [ 0.34396535,  0.24206137,  0.16240774]]), indices=array([[3, 0, 5],\n",
    "       [0, 1, 4],\n",
    "       [0, 5, 1],\n",
    "       [1, 3, 5],\n",
    "       [1, 4, 3]], dtype=int32))\n",
    "```\n",
    "\n",
    "Looking just at the first row we get `[ 0.34763842,  0.24879643,  0.12789202]`, you can confirm these are the 3 largest probabilities in `a`. You'll also notice `[3, 0, 5]` are the corresponding indices."
   ]
  },
  {
   "cell_type": "code",
   "execution_count": 3,
   "metadata": {
    "collapsed": true
   },
   "outputs": [],
   "source": [
    "### Print out the top five softmax probabilities for the predictions on the German traffic sign images found on the web. \n",
    "### Feel free to use as many code cells as needed."
   ]
  },
  {
   "cell_type": "markdown",
   "metadata": {},
   "source": [
    "### Project Writeup\n",
    "\n",
    "Once you have completed the code implementation, document your results in a project writeup using this [template](https://github.com/udacity/CarND-Traffic-Sign-Classifier-Project/blob/master/writeup_template.md) as a guide. The writeup can be in a markdown or pdf file. "
   ]
  },
  {
   "cell_type": "markdown",
   "metadata": {},
   "source": [
    "> **Note**: Once you have completed all of the code implementations and successfully answered each question above, you may finalize your work by exporting the iPython Notebook as an HTML document. You can do this by using the menu above and navigating to  \\n\",\n",
    "    \"**File -> Download as -> HTML (.html)**. Include the finished document along with this notebook as your submission."
   ]
  },
  {
   "cell_type": "markdown",
   "metadata": {},
   "source": [
    "---\n",
    "\n",
    "## Step 4 (Optional): Visualize the Neural Network's State with Test Images\n",
    "\n",
    " This Section is not required to complete but acts as an additional excersise for understaning the output of a neural network's weights. While neural networks can be a great learning device they are often referred to as a black box. We can understand what the weights of a neural network look like better by plotting their feature maps. After successfully training your neural network you can see what it's feature maps look like by plotting the output of the network's weight layers in response to a test stimuli image. From these plotted feature maps, it's possible to see what characteristics of an image the network finds interesting. For a sign, maybe the inner network feature maps react with high activation to the sign's boundary outline or to the contrast in the sign's painted symbol.\n",
    "\n",
    " Provided for you below is the function code that allows you to get the visualization output of any tensorflow weight layer you want. The inputs to the function should be a stimuli image, one used during training or a new one you provided, and then the tensorflow variable name that represents the layer's state during the training process, for instance if you wanted to see what the [LeNet lab's](https://classroom.udacity.com/nanodegrees/nd013/parts/fbf77062-5703-404e-b60c-95b78b2f3f9e/modules/6df7ae49-c61c-4bb2-a23e-6527e69209ec/lessons/601ae704-1035-4287-8b11-e2c2716217ad/concepts/d4aca031-508f-4e0b-b493-e7b706120f81) feature maps looked like for it's second convolutional layer you could enter conv2 as the tf_activation variable.\n",
    "\n",
    "For an example of what feature map outputs look like, check out NVIDIA's results in their paper [End-to-End Deep Learning for Self-Driving Cars](https://devblogs.nvidia.com/parallelforall/deep-learning-self-driving-cars/) in the section Visualization of internal CNN State. NVIDIA was able to show that their network's inner weights had high activations to road boundary lines by comparing feature maps from an image with a clear path to one without. Try experimenting with a similar test to show that your trained network's weights are looking for interesting features, whether it's looking at differences in feature maps from images with or without a sign, or even what feature maps look like in a trained network vs a completely untrained one on the same sign image.\n",
    "\n",
    "<figure>\n",
    " <img src=\"visualize_cnn.png\" width=\"380\" alt=\"Combined Image\" />\n",
    " <figcaption>\n",
    " <p></p> \n",
    " <p style=\"text-align: center;\"> Your output should look something like this (above)</p> \n",
    " </figcaption>\n",
    "</figure>\n",
    " <p></p> \n"
   ]
  },
  {
   "cell_type": "code",
   "execution_count": null,
   "metadata": {
    "collapsed": true
   },
   "outputs": [],
   "source": [
    "### Visualize your network's feature maps here.\n",
    "### Feel free to use as many code cells as needed.\n",
    "\n",
    "# image_input: the test image being fed into the network to produce the feature maps\n",
    "# tf_activation: should be a tf variable name used during your training procedure that represents the calculated state of a specific weight layer\n",
    "# activation_min/max: can be used to view the activation contrast in more detail, by default matplot sets min and max to the actual min and max values of the output\n",
    "# plt_num: used to plot out multiple different weight feature map sets on the same block, just extend the plt number for each new feature map entry\n",
    "\n",
    "def outputFeatureMap(image_input, tf_activation, activation_min=-1, activation_max=-1 ,plt_num=1):\n",
    "    # Here make sure to preprocess your image_input in a way your network expects\n",
    "    # with size, normalization, ect if needed\n",
    "    # image_input =\n",
    "    # Note: x should be the same name as your network's tensorflow data placeholder variable\n",
    "    # If you get an error tf_activation is not defined it may be having trouble accessing the variable from inside a function\n",
    "    activation = tf_activation.eval(session=sess,feed_dict={x : image_input})\n",
    "    featuremaps = activation.shape[3]\n",
    "    plt.figure(plt_num, figsize=(15,15))\n",
    "    for featuremap in range(featuremaps):\n",
    "        plt.subplot(6,8, featuremap+1) # sets the number of feature maps to show on each row and column\n",
    "        plt.title('FeatureMap ' + str(featuremap)) # displays the feature map number\n",
    "        if activation_min != -1 & activation_max != -1:\n",
    "            plt.imshow(activation[0,:,:, featuremap], interpolation=\"nearest\", vmin =activation_min, vmax=activation_max, cmap=\"gray\")\n",
    "        elif activation_max != -1:\n",
    "            plt.imshow(activation[0,:,:, featuremap], interpolation=\"nearest\", vmax=activation_max, cmap=\"gray\")\n",
    "        elif activation_min !=-1:\n",
    "            plt.imshow(activation[0,:,:, featuremap], interpolation=\"nearest\", vmin=activation_min, cmap=\"gray\")\n",
    "        else:\n",
    "            plt.imshow(activation[0,:,:, featuremap], interpolation=\"nearest\", cmap=\"gray\")"
   ]
  }
 ],
 "metadata": {
  "anaconda-cloud": {},
  "kernelspec": {
   "display_name": "Python 3",
   "language": "python",
   "name": "python3"
  },
  "language_info": {
   "codemirror_mode": {
    "name": "ipython",
    "version": 3
   },
   "file_extension": ".py",
   "mimetype": "text/x-python",
   "name": "python",
   "nbconvert_exporter": "python",
   "pygments_lexer": "ipython3",
   "version": "3.5.2"
  },
  "widgets": {
   "state": {},
   "version": "1.1.2"
  }
 },
 "nbformat": 4,
 "nbformat_minor": 1
}
